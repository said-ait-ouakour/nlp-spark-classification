{
 "cells": [
  {
   "cell_type": "code",
   "execution_count": 1,
   "id": "f01d0a57",
   "metadata": {},
   "outputs": [
    {
     "name": "stderr",
     "output_type": "stream",
     "text": [
      "Setting default log level to \"WARN\".\n",
      "To adjust logging level use sc.setLogLevel(newLevel). For SparkR, use setLogLevel(newLevel).\n"
     ]
    },
    {
     "name": "stdout",
     "output_type": "stream",
     "text": [
      "23/06/11 14:53:20 WARN NativeCodeLoader: Unable to load native-hadoop library for your platform... using builtin-java classes where applicable\n"
     ]
    }
   ],
   "source": [
    "from pyspark.sql import SparkSession\n",
    "\n",
    "spark = SparkSession.\\\n",
    "        builder.\\\n",
    "        appName(\"AuthorshipIdentificationWithPyspark\").\\\n",
    "        master(\"spark://spark-master:7077\").\\\n",
    "        config(\"spark.executor.memory\", \"2g\").\\\n",
    "        getOrCreate()\n",
    "\n",
    "sc = spark.sparkContext"
   ]
  },
  {
   "cell_type": "code",
   "execution_count": 2,
   "id": "aae39df3",
   "metadata": {},
   "outputs": [],
   "source": [
    "sc.setLogLevel(\"WARN\")"
   ]
  },
  {
   "cell_type": "code",
   "execution_count": 3,
   "id": "b74782f0",
   "metadata": {},
   "outputs": [],
   "source": [
    "spark.conf.set(\"spark.dag.scheduler.broadcast.largeTasks.maxSize\", \"4 MiB\")"
   ]
  },
  {
   "cell_type": "code",
   "execution_count": 4,
   "id": "936034de",
   "metadata": {},
   "outputs": [],
   "source": [
    "# !pip install nltk"
   ]
  },
  {
   "cell_type": "code",
   "execution_count": 5,
   "id": "14d23ddf",
   "metadata": {},
   "outputs": [],
   "source": [
    "# import libraries \n",
    "import os \n",
    "import pandas as pd \n",
    "import numpy as np\n",
    "import re"
   ]
  },
  {
   "cell_type": "code",
   "execution_count": 6,
   "id": "d34e59f2",
   "metadata": {},
   "outputs": [],
   "source": [
    "# !pip install pdfplumber "
   ]
  },
  {
   "cell_type": "code",
   "execution_count": 7,
   "id": "42ba6562",
   "metadata": {},
   "outputs": [],
   "source": [
    "import pdfplumber"
   ]
  },
  {
   "cell_type": "markdown",
   "id": "19dff8bf",
   "metadata": {},
   "source": [
    "### process the data for balzac "
   ]
  },
  {
   "cell_type": "code",
   "execution_count": 8,
   "id": "fc0f1bf6",
   "metadata": {},
   "outputs": [],
   "source": [
    "def preprocess_text(text):\n",
    "  \n",
    "    # Remove digits\n",
    "    text = re.sub('\\d', '', text)\n",
    "    \n",
    "    # Remove punctuation\n",
    "    text = re.sub(r'[^\\w\\s]', '', text)\n",
    "    \n",
    "    # Convert to lowercase\n",
    "    text = text.lower()\n",
    "       \n",
    "    return text"
   ]
  },
  {
   "cell_type": "code",
   "execution_count": 9,
   "id": "44b3d75d",
   "metadata": {},
   "outputs": [],
   "source": [
    "def split_text(text, chunk_size):\n",
    "    \"\"\"Splits the text into chunks of a specified size.\n",
    "\n",
    "    Args:\n",
    "        text: The text to be split.\n",
    "        chunk_size: The desired size of each text chunk.\n",
    "\n",
    "    Returns:\n",
    "        A list of text chunks.\n",
    "    \"\"\"\n",
    "    \n",
    "    chunks = []\n",
    "    \n",
    "    current_chunk = ''\n",
    "    \n",
    "    words = text.split()\n",
    "    \n",
    "    for word in words:\n",
    "        \n",
    "        if len(current_chunk) + len(word) + 1 <= chunk_size:\n",
    "            current_chunk += word + ' '\n",
    "        \n",
    "        else:\n",
    "            chunks.append(current_chunk.strip())\n",
    "            current_chunk = word + ' '\n",
    "    \n",
    "    if current_chunk:\n",
    "        chunks.append(current_chunk.strip())\n",
    "    \n",
    "    return chunks  "
   ]
  },
  {
   "cell_type": "code",
   "execution_count": 14,
   "id": "e735b145",
   "metadata": {},
   "outputs": [],
   "source": [
    "# create text files from pdf files \n",
    "\n",
    "folders = [\"balzac\", \"flaubert\"]\n",
    "chunk_size = 100\n",
    "\n",
    "rows = []\n",
    "for folder in folders:\n",
    "    for file in os.listdir(folder):\n",
    "#       process pdf files\n",
    "        if file.endswith('.pdf'):\n",
    "            with pdfplumber.open(f'{folder}/{file}') as pdf:\n",
    "\n",
    "                for page in pdf.pages[3::]:\n",
    "                    text = page.extract_text()\n",
    "                    text = preprocess_text(text)\n",
    "\n",
    "                    chunks = split_text(text, chunk_size)\n",
    "\n",
    "                    for chunk in chunks:\n",
    "                        rows.append({\n",
    "                            'filename': file,\n",
    "                            'text': chunk,\n",
    "                            'author': folder\n",
    "                        })\n",
    "\n",
    "#       process text files        \n",
    "        if file.endswith(\".txt\"):\n",
    "                with open(f\"{folder}/{file}\", \"r\") as txt:\n",
    "\n",
    "                    text = txt.read()    \n",
    "\n",
    "                    text = preprocess_text(text)\n",
    "\n",
    "                    chunks = split_text(text, chunk_size)\n",
    "\n",
    "                    for chunk in chunks:\n",
    "                        rows.append({\n",
    "                            'filename': file,\n",
    "                            'text': chunk,\n",
    "                            'author': folder\n",
    "                    })\n",
    "                  \n",
    "data = pd.DataFrame(rows)"
   ]
  },
  {
   "cell_type": "code",
   "execution_count": 10,
   "id": "698fb81d",
   "metadata": {},
   "outputs": [],
   "source": [
    "data = pd.read_csv(\"data.csv\")"
   ]
  },
  {
   "cell_type": "code",
   "execution_count": 11,
   "id": "b379ba74",
   "metadata": {},
   "outputs": [
    {
     "data": {
      "text/html": [
       "<div>\n",
       "<style scoped>\n",
       "    .dataframe tbody tr th:only-of-type {\n",
       "        vertical-align: middle;\n",
       "    }\n",
       "\n",
       "    .dataframe tbody tr th {\n",
       "        vertical-align: top;\n",
       "    }\n",
       "\n",
       "    .dataframe thead th {\n",
       "        text-align: right;\n",
       "    }\n",
       "</style>\n",
       "<table border=\"1\" class=\"dataframe\">\n",
       "  <thead>\n",
       "    <tr style=\"text-align: right;\">\n",
       "      <th></th>\n",
       "      <th>filename</th>\n",
       "      <th>text</th>\n",
       "      <th>author</th>\n",
       "    </tr>\n",
       "  </thead>\n",
       "  <tbody>\n",
       "    <tr>\n",
       "      <th>0</th>\n",
       "      <td>Balzac-La-Vieille-Fille-FrenchPDF.pdf</td>\n",
       "      <td>french accessibilité disponibilité et gratuité...</td>\n",
       "      <td>balzac</td>\n",
       "    </tr>\n",
       "    <tr>\n",
       "      <th>1</th>\n",
       "      <td>Balzac-La-Vieille-Fille-FrenchPDF.pdf</td>\n",
       "      <td>balzac genre nouvelles contes numéro livre www...</td>\n",
       "      <td>balzac</td>\n",
       "    </tr>\n",
       "    <tr>\n",
       "      <th>2</th>\n",
       "      <td>Balzac-La-Vieille-Fille-FrenchPDF.pdf</td>\n",
       "      <td>pinterestcomfrenchpdf note ce livre numérique ...</td>\n",
       "      <td>balzac</td>\n",
       "    </tr>\n",
       "    <tr>\n",
       "      <th>3</th>\n",
       "      <td>Balzac-La-Vieille-Fille-FrenchPDF.pdf</td>\n",
       "      <td>utilisation strictement personnelle et ne peut...</td>\n",
       "      <td>balzac</td>\n",
       "    </tr>\n",
       "    <tr>\n",
       "      <th>4</th>\n",
       "      <td>Balzac-La-Vieille-Fille-FrenchPDF.pdf</td>\n",
       "      <td>la vieille fille à monsieur eugèneauguste geor...</td>\n",
       "      <td>balzac</td>\n",
       "    </tr>\n",
       "  </tbody>\n",
       "</table>\n",
       "</div>"
      ],
      "text/plain": [
       "                                filename  \\\n",
       "0  Balzac-La-Vieille-Fille-FrenchPDF.pdf   \n",
       "1  Balzac-La-Vieille-Fille-FrenchPDF.pdf   \n",
       "2  Balzac-La-Vieille-Fille-FrenchPDF.pdf   \n",
       "3  Balzac-La-Vieille-Fille-FrenchPDF.pdf   \n",
       "4  Balzac-La-Vieille-Fille-FrenchPDF.pdf   \n",
       "\n",
       "                                                text  author  \n",
       "0  french accessibilité disponibilité et gratuité...  balzac  \n",
       "1  balzac genre nouvelles contes numéro livre www...  balzac  \n",
       "2  pinterestcomfrenchpdf note ce livre numérique ...  balzac  \n",
       "3  utilisation strictement personnelle et ne peut...  balzac  \n",
       "4  la vieille fille à monsieur eugèneauguste geor...  balzac  "
      ]
     },
     "execution_count": 11,
     "metadata": {},
     "output_type": "execute_result"
    }
   ],
   "source": [
    "data.head()"
   ]
  },
  {
   "cell_type": "code",
   "execution_count": 12,
   "id": "e8a079eb",
   "metadata": {},
   "outputs": [],
   "source": [
    "# save preprocessed data\n",
    "# data.to_csv(\"data.csv\", index=False)"
   ]
  },
  {
   "cell_type": "code",
   "execution_count": 13,
   "id": "ff90ad5f",
   "metadata": {},
   "outputs": [
    {
     "data": {
      "text/plain": [
       "balzac      155406\n",
       "flaubert     34933\n",
       "Name: author, dtype: int64"
      ]
     },
     "execution_count": 13,
     "metadata": {},
     "output_type": "execute_result"
    }
   ],
   "source": [
    "data.author.value_counts()"
   ]
  },
  {
   "cell_type": "markdown",
   "id": "35123ab2",
   "metadata": {},
   "source": [
    "it appears that we have enough data for this work"
   ]
  },
  {
   "cell_type": "code",
   "execution_count": 14,
   "id": "fa0b8a95",
   "metadata": {},
   "outputs": [
    {
     "name": "stderr",
     "output_type": "stream",
     "text": [
      "[Stage 1:>                                                          (0 + 1) / 1]\r"
     ]
    },
    {
     "name": "stdout",
     "output_type": "stream",
     "text": [
      "+--------------------+--------------------+------+\n",
      "|            filename|                text|author|\n",
      "+--------------------+--------------------+------+\n",
      "|Balzac-La-Vieille...|french accessibil...|balzac|\n",
      "|Balzac-La-Vieille...|balzac genre nouv...|balzac|\n",
      "|Balzac-La-Vieille...|pinterestcomfrenc...|balzac|\n",
      "+--------------------+--------------------+------+\n",
      "only showing top 3 rows\n",
      "\n"
     ]
    },
    {
     "name": "stderr",
     "output_type": "stream",
     "text": [
      "                                                                                \r"
     ]
    }
   ],
   "source": [
    "df = spark.read\\\n",
    "    .format(\"csv\")\\\n",
    "    .option(\"multiline\", True)\\\n",
    "    .option(\"header\", \"true\")\\\n",
    "    .load(\"data.csv\")\\\n",
    "\n",
    "df.select(\"*\").show(n=3)"
   ]
  },
  {
   "cell_type": "code",
   "execution_count": 15,
   "id": "d4a2edcf",
   "metadata": {},
   "outputs": [
    {
     "name": "stdout",
     "output_type": "stream",
     "text": [
      "+------+\n",
      "|author|\n",
      "+------+\n",
      "|balzac|\n",
      "|balzac|\n",
      "|balzac|\n",
      "+------+\n",
      "only showing top 3 rows\n",
      "\n"
     ]
    }
   ],
   "source": [
    "df.select(\"author\").show(n=3)"
   ]
  },
  {
   "cell_type": "code",
   "execution_count": 16,
   "id": "b6b20158",
   "metadata": {},
   "outputs": [
    {
     "data": {
      "text/plain": [
       "['filename', 'text', 'author']"
      ]
     },
     "execution_count": 16,
     "metadata": {},
     "output_type": "execute_result"
    }
   ],
   "source": [
    "df.columns"
   ]
  },
  {
   "cell_type": "code",
   "execution_count": 17,
   "id": "7d991387",
   "metadata": {},
   "outputs": [],
   "source": [
    "df = df.select(\"text\", \"author\")"
   ]
  },
  {
   "cell_type": "code",
   "execution_count": 18,
   "id": "401a0e6e",
   "metadata": {},
   "outputs": [
    {
     "name": "stderr",
     "output_type": "stream",
     "text": [
      "[Stage 3:>                                                          (0 + 1) / 1]\r"
     ]
    },
    {
     "name": "stdout",
     "output_type": "stream",
     "text": [
      "+--------+\n",
      "|  author|\n",
      "+--------+\n",
      "|flaubert|\n",
      "|  balzac|\n",
      "+--------+\n",
      "\n"
     ]
    },
    {
     "name": "stderr",
     "output_type": "stream",
     "text": [
      "                                                                                \r"
     ]
    }
   ],
   "source": [
    "df.select(\"author\").distinct().show()"
   ]
  },
  {
   "cell_type": "code",
   "execution_count": 19,
   "id": "7fae5d26",
   "metadata": {},
   "outputs": [],
   "source": [
    "df = df.dropna()"
   ]
  },
  {
   "cell_type": "code",
   "execution_count": 20,
   "id": "28e0e7e2",
   "metadata": {},
   "outputs": [
    {
     "name": "stdout",
     "output_type": "stream",
     "text": [
      "+--------------------+------+\n",
      "|                text|author|\n",
      "+--------------------+------+\n",
      "|french accessibil...|balzac|\n",
      "|balzac genre nouv...|balzac|\n",
      "|pinterestcomfrenc...|balzac|\n",
      "+--------------------+------+\n",
      "only showing top 3 rows\n",
      "\n"
     ]
    }
   ],
   "source": [
    "df.show(n=3)"
   ]
  },
  {
   "cell_type": "code",
   "execution_count": 21,
   "id": "8f9b86c5",
   "metadata": {},
   "outputs": [
    {
     "name": "stderr",
     "output_type": "stream",
     "text": [
      "[Stage 7:>                                                          (0 + 1) / 1]\r"
     ]
    },
    {
     "name": "stdout",
     "output_type": "stream",
     "text": [
      "+--------+------+\n",
      "|  author| count|\n",
      "+--------+------+\n",
      "|flaubert| 34933|\n",
      "|  balzac|155406|\n",
      "+--------+------+\n",
      "\n"
     ]
    },
    {
     "name": "stderr",
     "output_type": "stream",
     "text": [
      "                                                                                \r"
     ]
    }
   ],
   "source": [
    "df.groupBy(\"author\").count().show()"
   ]
  },
  {
   "cell_type": "code",
   "execution_count": 22,
   "id": "8787c8fb",
   "metadata": {},
   "outputs": [],
   "source": [
    "import pyspark.ml.feature"
   ]
  },
  {
   "cell_type": "code",
   "execution_count": 23,
   "id": "c4817071",
   "metadata": {},
   "outputs": [],
   "source": [
    "from pyspark.ml.feature import Tokenizer, StopWordsRemover, IDF, CountVectorizer\n",
    "from pyspark.ml.feature import StringIndexer "
   ]
  },
  {
   "cell_type": "code",
   "execution_count": 24,
   "id": "677c2da9",
   "metadata": {},
   "outputs": [],
   "source": [
    "tokenizer = Tokenizer(inputCol=\"text\", outputCol=\"mytokens\")\n",
    "stopWordsRemover = StopWordsRemover(inputCol=\"mytokens\", outputCol=\"filtered_tokens\")\n",
    "vectorizer = CountVectorizer(inputCol=\"filtered_tokens\", outputCol=\"rawFeatures\")\n",
    "idf = IDF(inputCol=\"rawFeatures\", outputCol=\"vectorizedFeatures\")"
   ]
  },
  {
   "cell_type": "code",
   "execution_count": 25,
   "id": "6ddc62e2",
   "metadata": {},
   "outputs": [
    {
     "name": "stderr",
     "output_type": "stream",
     "text": [
      "                                                                                \r"
     ]
    }
   ],
   "source": [
    "labelEncoder = StringIndexer(inputCol=\"author\", outputCol=\"label\").fit(df)"
   ]
  },
  {
   "cell_type": "code",
   "execution_count": 26,
   "id": "bf869b09",
   "metadata": {},
   "outputs": [],
   "source": [
    "df = labelEncoder.transform(df)"
   ]
  },
  {
   "cell_type": "code",
   "execution_count": 27,
   "id": "2c701490",
   "metadata": {},
   "outputs": [],
   "source": [
    "(trainDF, testDF) = df.randomSplit((0.6, 0.4), seed=42)"
   ]
  },
  {
   "cell_type": "code",
   "execution_count": 28,
   "id": "fd27c214",
   "metadata": {},
   "outputs": [
    {
     "name": "stderr",
     "output_type": "stream",
     "text": [
      "[Stage 13:>                                                         (0 + 1) / 1]\r"
     ]
    },
    {
     "name": "stdout",
     "output_type": "stream",
     "text": [
      "+--------------------+--------+-----+\n",
      "|                text|  author|label|\n",
      "+--------------------+--------+-----+\n",
      "|_________________...|  balzac|  0.0|\n",
      "|_affaire_ ne donn...|  balzac|  0.0|\n",
      "|_al_ pour elle un...|flaubert|  1.0|\n",
      "|_aliénistes_ le s...|  balzac|  0.0|\n",
      "|_appel par métivi...|  balzac|  0.0|\n",
      "|_athalie_ et débi...|flaubert|  1.0|\n",
      "|_authentique_ tom...|  balzac|  0.0|\n",
      "|_baby_ crie et qu...|  balzac|  0.0|\n",
      "|_barrows_ et les ...|flaubert|  1.0|\n",
      "|_belle position_ ...|  balzac|  0.0|\n",
      "|_bene sit_ je nai...|  balzac|  0.0|\n",
      "|_benedicite_ sera...|  balzac|  0.0|\n",
      "|_bien_ le jeune m...|  balzac|  0.0|\n",
      "|_blagué_ mais je ...|  balzac|  0.0|\n",
      "|_bonaparte_ on a ...|flaubert|  1.0|\n",
      "|_bourguignon_ est...|  balzac|  0.0|\n",
      "|_bovary_ la occup...|flaubert|  1.0|\n",
      "|_brouetter le mon...|  balzac|  0.0|\n",
      "|_broumbroumant_ e...|  balzac|  0.0|\n",
      "|_broussonatia_ sa...|  balzac|  0.0|\n",
      "+--------------------+--------+-----+\n",
      "only showing top 20 rows\n",
      "\n"
     ]
    },
    {
     "name": "stderr",
     "output_type": "stream",
     "text": [
      "                                                                                \r"
     ]
    }
   ],
   "source": [
    "trainDF.show() "
   ]
  },
  {
   "cell_type": "code",
   "execution_count": 29,
   "id": "5e3557e4",
   "metadata": {},
   "outputs": [
    {
     "name": "stdout",
     "output_type": "stream",
     "text": [
      "+--------------------+--------+-----+\n",
      "|                text|  author|label|\n",
      "+--------------------+--------+-----+\n",
      "|_ mai_ _procèsver...|  balzac|  0.0|\n",
      "|_abyssus abyssum_...|  balzac|  0.0|\n",
      "|_ahriman_ le prin...|flaubert|  1.0|\n",
      "|_alberto_ nous pr...|  balzac|  0.0|\n",
      "|_anglaises_ situé...|  balzac|  0.0|\n",
      "|_antiquités_ coût...|  balzac|  0.0|\n",
      "|_après avoir rega...|  balzac|  0.0|\n",
      "|_attendu_ qui rés...|  balzac|  0.0|\n",
      "|_attraper leurs p...|  balzac|  0.0|\n",
      "|_auffredi_ de la ...|  balzac|  0.0|\n",
      "|_avait donné ses ...|  balzac|  0.0|\n",
      "|_banqueroutier_ f...|  balzac|  0.0|\n",
      "|_belle hollandais...|  balzac|  0.0|\n",
      "|_bellepoule_ pour...|  balzac|  0.0|\n",
      "|_beltà folgorante...|  balzac|  0.0|\n",
      "|_bien_ mais pour ...|  balzac|  0.0|\n",
      "|_bienheureux les ...|  balzac|  0.0|\n",
      "|_biophilie_ manif...|flaubert|  1.0|\n",
      "|_bocal aux grands...|  balzac|  0.0|\n",
      "|_bouillard_ espèc...|  balzac|  0.0|\n",
      "+--------------------+--------+-----+\n",
      "only showing top 20 rows\n",
      "\n"
     ]
    },
    {
     "name": "stderr",
     "output_type": "stream",
     "text": [
      "                                                                                \r"
     ]
    }
   ],
   "source": [
    "testDF.show()"
   ]
  },
  {
   "cell_type": "code",
   "execution_count": 30,
   "id": "11447398",
   "metadata": {},
   "outputs": [],
   "source": [
    "from pyspark.ml.classification import LogisticRegression\n",
    "from pyspark.ml.tuning import ParamGridBuilder, CrossValidator\n",
    "from pyspark.ml.classification import RandomForestClassifier"
   ]
  },
  {
   "cell_type": "code",
   "execution_count": 31,
   "id": "c5523f18",
   "metadata": {},
   "outputs": [],
   "source": [
    "lr = LogisticRegression(featuresCol=\"vectorizedFeatures\", labelCol=\"label\")"
   ]
  },
  {
   "cell_type": "markdown",
   "id": "e0e9fcde",
   "metadata": {},
   "source": [
    "### Building Pipeline "
   ]
  },
  {
   "cell_type": "code",
   "execution_count": 32,
   "id": "fd0ef1b5",
   "metadata": {},
   "outputs": [],
   "source": [
    "from pyspark.ml import Pipeline"
   ]
  },
  {
   "cell_type": "code",
   "execution_count": 33,
   "id": "f28ef618",
   "metadata": {},
   "outputs": [],
   "source": [
    "pipeline = Pipeline(stages=[tokenizer, stopWordsRemover, vectorizer, idf, lr])"
   ]
  },
  {
   "cell_type": "code",
   "execution_count": 34,
   "id": "97bca53c",
   "metadata": {},
   "outputs": [
    {
     "data": {
      "text/plain": [
       "Pipeline_a69492c1a57a"
      ]
     },
     "execution_count": 34,
     "metadata": {},
     "output_type": "execute_result"
    }
   ],
   "source": [
    "pipeline"
   ]
  },
  {
   "cell_type": "code",
   "execution_count": 35,
   "id": "c17e7576",
   "metadata": {},
   "outputs": [
    {
     "data": {
      "text/plain": [
       "Param(parent='Pipeline_a69492c1a57a', name='stages', doc='a list of pipeline stages')"
      ]
     },
     "execution_count": 35,
     "metadata": {},
     "output_type": "execute_result"
    }
   ],
   "source": [
    "pipeline.stages"
   ]
  },
  {
   "cell_type": "code",
   "execution_count": 36,
   "id": "1e285193",
   "metadata": {},
   "outputs": [
    {
     "name": "stderr",
     "output_type": "stream",
     "text": [
      "                                                                                \r"
     ]
    },
    {
     "name": "stdout",
     "output_type": "stream",
     "text": [
      "23/06/11 14:54:02 WARN DAGScheduler: Broadcasting large task binary with size 2.1 MiB\n"
     ]
    },
    {
     "name": "stderr",
     "output_type": "stream",
     "text": [
      "                                                                                \r"
     ]
    },
    {
     "name": "stdout",
     "output_type": "stream",
     "text": [
      "23/06/11 14:54:06 WARN DAGScheduler: Broadcasting large task binary with size 2.1 MiB\n"
     ]
    },
    {
     "name": "stderr",
     "output_type": "stream",
     "text": [
      "[Stage 21:>                                                         (0 + 1) / 1]\r"
     ]
    },
    {
     "name": "stdout",
     "output_type": "stream",
     "text": [
      "23/06/11 14:54:09 WARN InstanceBuilder$NativeBLAS: Failed to load implementation from:dev.ludovic.netlib.blas.JNIBLAS\n",
      "23/06/11 14:54:09 WARN InstanceBuilder$NativeBLAS: Failed to load implementation from:dev.ludovic.netlib.blas.ForeignLinkerBLAS\n",
      "23/06/11 14:54:09 WARN BLAS: Failed to load implementation from: com.github.fommil.netlib.NativeSystemBLAS\n",
      "23/06/11 14:54:09 WARN BLAS: Failed to load implementation from: com.github.fommil.netlib.NativeRefBLAS\n",
      "23/06/11 14:54:09 WARN DAGScheduler: Broadcasting large task binary with size 2.1 MiB\n"
     ]
    },
    {
     "name": "stderr",
     "output_type": "stream",
     "text": [
      "                                                                                \r"
     ]
    },
    {
     "name": "stdout",
     "output_type": "stream",
     "text": [
      "23/06/11 14:54:10 WARN DAGScheduler: Broadcasting large task binary with size 2.1 MiB\n",
      "23/06/11 14:54:10 WARN DAGScheduler: Broadcasting large task binary with size 2.1 MiB\n",
      "23/06/11 14:54:10 WARN DAGScheduler: Broadcasting large task binary with size 2.1 MiB\n",
      "23/06/11 14:54:10 WARN DAGScheduler: Broadcasting large task binary with size 2.1 MiB\n",
      "23/06/11 14:54:10 WARN DAGScheduler: Broadcasting large task binary with size 2.1 MiB\n",
      "23/06/11 14:54:11 WARN DAGScheduler: Broadcasting large task binary with size 2.1 MiB\n",
      "23/06/11 14:54:11 WARN DAGScheduler: Broadcasting large task binary with size 2.1 MiB\n",
      "23/06/11 14:54:11 WARN DAGScheduler: Broadcasting large task binary with size 2.1 MiB\n",
      "23/06/11 14:54:11 WARN DAGScheduler: Broadcasting large task binary with size 2.1 MiB\n",
      "23/06/11 14:54:12 WARN DAGScheduler: Broadcasting large task binary with size 2.1 MiB\n",
      "23/06/11 14:54:12 WARN DAGScheduler: Broadcasting large task binary with size 2.1 MiB\n",
      "23/06/11 14:54:12 WARN DAGScheduler: Broadcasting large task binary with size 2.1 MiB\n",
      "23/06/11 14:54:12 WARN DAGScheduler: Broadcasting large task binary with size 2.1 MiB\n",
      "23/06/11 14:54:12 WARN DAGScheduler: Broadcasting large task binary with size 2.1 MiB\n",
      "23/06/11 14:54:13 WARN DAGScheduler: Broadcasting large task binary with size 2.1 MiB\n",
      "23/06/11 14:54:13 WARN DAGScheduler: Broadcasting large task binary with size 2.1 MiB\n",
      "23/06/11 14:54:13 WARN DAGScheduler: Broadcasting large task binary with size 2.1 MiB\n",
      "23/06/11 14:54:13 WARN DAGScheduler: Broadcasting large task binary with size 2.1 MiB\n",
      "23/06/11 14:54:13 WARN DAGScheduler: Broadcasting large task binary with size 2.1 MiB\n",
      "23/06/11 14:54:13 WARN DAGScheduler: Broadcasting large task binary with size 2.1 MiB\n",
      "23/06/11 14:54:14 WARN DAGScheduler: Broadcasting large task binary with size 2.1 MiB\n",
      "23/06/11 14:54:14 WARN DAGScheduler: Broadcasting large task binary with size 2.1 MiB\n",
      "23/06/11 14:54:14 WARN DAGScheduler: Broadcasting large task binary with size 2.1 MiB\n",
      "23/06/11 14:54:14 WARN DAGScheduler: Broadcasting large task binary with size 2.1 MiB\n",
      "23/06/11 14:54:14 WARN DAGScheduler: Broadcasting large task binary with size 2.1 MiB\n",
      "23/06/11 14:54:14 WARN DAGScheduler: Broadcasting large task binary with size 2.1 MiB\n",
      "23/06/11 14:54:15 WARN DAGScheduler: Broadcasting large task binary with size 2.1 MiB\n",
      "23/06/11 14:54:15 WARN DAGScheduler: Broadcasting large task binary with size 2.1 MiB\n",
      "23/06/11 14:54:15 WARN DAGScheduler: Broadcasting large task binary with size 2.1 MiB\n",
      "23/06/11 14:54:15 WARN DAGScheduler: Broadcasting large task binary with size 2.1 MiB\n",
      "23/06/11 14:54:15 WARN DAGScheduler: Broadcasting large task binary with size 2.1 MiB\n",
      "23/06/11 14:54:15 WARN DAGScheduler: Broadcasting large task binary with size 2.1 MiB\n",
      "23/06/11 14:54:16 WARN DAGScheduler: Broadcasting large task binary with size 2.1 MiB\n",
      "23/06/11 14:54:16 WARN DAGScheduler: Broadcasting large task binary with size 2.1 MiB\n",
      "23/06/11 14:54:16 WARN DAGScheduler: Broadcasting large task binary with size 2.1 MiB\n",
      "23/06/11 14:54:16 WARN DAGScheduler: Broadcasting large task binary with size 2.1 MiB\n",
      "23/06/11 14:54:16 WARN DAGScheduler: Broadcasting large task binary with size 2.1 MiB\n",
      "23/06/11 14:54:16 WARN DAGScheduler: Broadcasting large task binary with size 2.1 MiB\n",
      "23/06/11 14:54:17 WARN DAGScheduler: Broadcasting large task binary with size 2.1 MiB\n",
      "23/06/11 14:54:17 WARN DAGScheduler: Broadcasting large task binary with size 2.1 MiB\n",
      "23/06/11 14:54:17 WARN DAGScheduler: Broadcasting large task binary with size 2.1 MiB\n",
      "23/06/11 14:54:17 WARN DAGScheduler: Broadcasting large task binary with size 2.1 MiB\n",
      "23/06/11 14:54:17 WARN DAGScheduler: Broadcasting large task binary with size 2.1 MiB\n",
      "23/06/11 14:54:17 WARN DAGScheduler: Broadcasting large task binary with size 2.1 MiB\n",
      "23/06/11 14:54:17 WARN DAGScheduler: Broadcasting large task binary with size 2.1 MiB\n",
      "23/06/11 14:54:18 WARN DAGScheduler: Broadcasting large task binary with size 2.1 MiB\n",
      "23/06/11 14:54:18 WARN DAGScheduler: Broadcasting large task binary with size 2.1 MiB\n",
      "23/06/11 14:54:18 WARN DAGScheduler: Broadcasting large task binary with size 2.1 MiB\n",
      "23/06/11 14:54:18 WARN DAGScheduler: Broadcasting large task binary with size 2.1 MiB\n",
      "23/06/11 14:54:18 WARN DAGScheduler: Broadcasting large task binary with size 2.1 MiB\n",
      "23/06/11 14:54:18 WARN DAGScheduler: Broadcasting large task binary with size 2.1 MiB\n",
      "23/06/11 14:54:18 WARN DAGScheduler: Broadcasting large task binary with size 2.1 MiB\n",
      "23/06/11 14:54:19 WARN DAGScheduler: Broadcasting large task binary with size 2.1 MiB\n",
      "23/06/11 14:54:19 WARN DAGScheduler: Broadcasting large task binary with size 2.1 MiB\n",
      "23/06/11 14:54:19 WARN DAGScheduler: Broadcasting large task binary with size 2.1 MiB\n",
      "23/06/11 14:54:19 WARN DAGScheduler: Broadcasting large task binary with size 2.1 MiB\n",
      "23/06/11 14:54:19 WARN DAGScheduler: Broadcasting large task binary with size 2.1 MiB\n",
      "23/06/11 14:54:19 WARN DAGScheduler: Broadcasting large task binary with size 2.1 MiB\n",
      "23/06/11 14:54:19 WARN DAGScheduler: Broadcasting large task binary with size 2.1 MiB\n",
      "23/06/11 14:54:20 WARN DAGScheduler: Broadcasting large task binary with size 2.1 MiB\n",
      "23/06/11 14:54:20 WARN DAGScheduler: Broadcasting large task binary with size 2.1 MiB\n",
      "23/06/11 14:54:20 WARN DAGScheduler: Broadcasting large task binary with size 2.1 MiB\n",
      "23/06/11 14:54:20 WARN DAGScheduler: Broadcasting large task binary with size 2.1 MiB\n",
      "23/06/11 14:54:20 WARN DAGScheduler: Broadcasting large task binary with size 2.1 MiB\n",
      "23/06/11 14:54:20 WARN DAGScheduler: Broadcasting large task binary with size 2.1 MiB\n",
      "23/06/11 14:54:21 WARN DAGScheduler: Broadcasting large task binary with size 2.1 MiB\n",
      "23/06/11 14:54:21 WARN DAGScheduler: Broadcasting large task binary with size 2.1 MiB\n",
      "23/06/11 14:54:21 WARN DAGScheduler: Broadcasting large task binary with size 2.1 MiB\n",
      "23/06/11 14:54:21 WARN DAGScheduler: Broadcasting large task binary with size 2.1 MiB\n",
      "23/06/11 14:54:21 WARN DAGScheduler: Broadcasting large task binary with size 2.1 MiB\n",
      "23/06/11 14:54:21 WARN DAGScheduler: Broadcasting large task binary with size 2.1 MiB\n",
      "23/06/11 14:54:21 WARN DAGScheduler: Broadcasting large task binary with size 2.1 MiB\n",
      "23/06/11 14:54:21 WARN DAGScheduler: Broadcasting large task binary with size 2.1 MiB\n",
      "23/06/11 14:54:22 WARN DAGScheduler: Broadcasting large task binary with size 2.1 MiB\n",
      "23/06/11 14:54:22 WARN DAGScheduler: Broadcasting large task binary with size 2.1 MiB\n",
      "23/06/11 14:54:22 WARN DAGScheduler: Broadcasting large task binary with size 2.1 MiB\n",
      "23/06/11 14:54:22 WARN DAGScheduler: Broadcasting large task binary with size 2.1 MiB\n",
      "23/06/11 14:54:22 WARN DAGScheduler: Broadcasting large task binary with size 2.1 MiB\n",
      "23/06/11 14:54:22 WARN DAGScheduler: Broadcasting large task binary with size 2.1 MiB\n",
      "23/06/11 14:54:22 WARN DAGScheduler: Broadcasting large task binary with size 2.1 MiB\n",
      "23/06/11 14:54:22 WARN DAGScheduler: Broadcasting large task binary with size 2.1 MiB\n",
      "23/06/11 14:54:23 WARN DAGScheduler: Broadcasting large task binary with size 2.1 MiB\n",
      "23/06/11 14:54:23 WARN DAGScheduler: Broadcasting large task binary with size 2.1 MiB\n",
      "23/06/11 14:54:23 WARN DAGScheduler: Broadcasting large task binary with size 2.1 MiB\n",
      "23/06/11 14:54:23 WARN DAGScheduler: Broadcasting large task binary with size 2.1 MiB\n",
      "23/06/11 14:54:23 WARN DAGScheduler: Broadcasting large task binary with size 2.1 MiB\n",
      "23/06/11 14:54:23 WARN DAGScheduler: Broadcasting large task binary with size 2.1 MiB\n",
      "23/06/11 14:54:23 WARN DAGScheduler: Broadcasting large task binary with size 2.1 MiB\n",
      "23/06/11 14:54:23 WARN DAGScheduler: Broadcasting large task binary with size 2.1 MiB\n",
      "23/06/11 14:54:24 WARN DAGScheduler: Broadcasting large task binary with size 2.1 MiB\n",
      "23/06/11 14:54:24 WARN DAGScheduler: Broadcasting large task binary with size 2.1 MiB\n",
      "23/06/11 14:54:24 WARN DAGScheduler: Broadcasting large task binary with size 2.1 MiB\n",
      "23/06/11 14:54:24 WARN DAGScheduler: Broadcasting large task binary with size 2.1 MiB\n",
      "23/06/11 14:54:24 WARN DAGScheduler: Broadcasting large task binary with size 2.1 MiB\n",
      "23/06/11 14:54:24 WARN DAGScheduler: Broadcasting large task binary with size 2.1 MiB\n",
      "23/06/11 14:54:24 WARN DAGScheduler: Broadcasting large task binary with size 2.1 MiB\n",
      "23/06/11 14:54:24 WARN DAGScheduler: Broadcasting large task binary with size 2.1 MiB\n",
      "23/06/11 14:54:25 WARN DAGScheduler: Broadcasting large task binary with size 2.1 MiB\n",
      "23/06/11 14:54:25 WARN DAGScheduler: Broadcasting large task binary with size 2.1 MiB\n",
      "23/06/11 14:54:25 WARN DAGScheduler: Broadcasting large task binary with size 2.1 MiB\n",
      "23/06/11 14:54:25 WARN DAGScheduler: Broadcasting large task binary with size 2.1 MiB\n"
     ]
    }
   ],
   "source": [
    "lr_model = pipeline.fit(trainDF)"
   ]
  },
  {
   "cell_type": "code",
   "execution_count": 37,
   "id": "42ecea6d",
   "metadata": {},
   "outputs": [
    {
     "data": {
      "text/plain": [
       "PipelineModel_e904f258514f"
      ]
     },
     "execution_count": 37,
     "metadata": {},
     "output_type": "execute_result"
    }
   ],
   "source": [
    "lr_model"
   ]
  },
  {
   "cell_type": "code",
   "execution_count": 38,
   "id": "8339d443",
   "metadata": {},
   "outputs": [],
   "source": [
    "predictions = lr_model.transform(testDF) "
   ]
  },
  {
   "cell_type": "code",
   "execution_count": 63,
   "id": "257b2754",
   "metadata": {},
   "outputs": [
    {
     "data": {
      "text/plain": [
       "['text',\n",
       " 'author',\n",
       " 'label',\n",
       " 'mytokens',\n",
       " 'filtered_tokens',\n",
       " 'rawFeatures',\n",
       " 'vectorizedFeatures',\n",
       " 'rawPrediction',\n",
       " 'probability',\n",
       " 'prediction']"
      ]
     },
     "execution_count": 63,
     "metadata": {},
     "output_type": "execute_result"
    }
   ],
   "source": [
    "predictions.columns"
   ]
  },
  {
   "cell_type": "code",
   "execution_count": 64,
   "id": "822852fe",
   "metadata": {},
   "outputs": [
    {
     "name": "stdout",
     "output_type": "stream",
     "text": [
      "23/06/11 15:04:19 WARN DAGScheduler: Broadcasting large task binary with size 2.7 MiB\n",
      "+--------------------+--------+--------------------+----------+\n",
      "|                text|  author|         probability|prediction|\n",
      "+--------------------+--------+--------------------+----------+\n",
      "|_ mai_ _procèsver...|  balzac|[0.99999914546493...|       0.0|\n",
      "|_abyssus abyssum_...|  balzac|[0.99999999988042...|       0.0|\n",
      "|_ahriman_ le prin...|flaubert|[0.99023021493675...|       0.0|\n",
      "|_alberto_ nous pr...|  balzac|[0.99999999999999...|       0.0|\n",
      "|_anglaises_ situé...|  balzac|[0.99999999999998...|       0.0|\n",
      "|_antiquités_ coût...|  balzac|           [1.0,0.0]|       0.0|\n",
      "|_après avoir rega...|  balzac|[0.99999999999312...|       0.0|\n",
      "|_attendu_ qui rés...|  balzac|           [1.0,0.0]|       0.0|\n",
      "|_attraper leurs p...|  balzac|[0.99777527703001...|       0.0|\n",
      "|_auffredi_ de la ...|  balzac|[0.99999999999905...|       0.0|\n",
      "|_avait donné ses ...|  balzac|[0.99999999983479...|       0.0|\n",
      "|_banqueroutier_ f...|  balzac|[0.99967693532094...|       0.0|\n",
      "|_belle hollandais...|  balzac|           [1.0,0.0]|       0.0|\n",
      "|_bellepoule_ pour...|  balzac|           [1.0,0.0]|       0.0|\n",
      "|_beltà folgorante...|  balzac|           [1.0,0.0]|       0.0|\n",
      "|_bien_ mais pour ...|  balzac|           [1.0,0.0]|       0.0|\n",
      "|_bienheureux les ...|  balzac|[0.99999999928903...|       0.0|\n",
      "|_biophilie_ manif...|flaubert|[0.99999956223984...|       0.0|\n",
      "|_bocal aux grands...|  balzac|           [1.0,0.0]|       0.0|\n",
      "|_bouillard_ espèc...|  balzac|[0.73322759709535...|       0.0|\n",
      "+--------------------+--------+--------------------+----------+\n",
      "only showing top 20 rows\n",
      "\n"
     ]
    },
    {
     "name": "stderr",
     "output_type": "stream",
     "text": [
      "                                                                                \r"
     ]
    }
   ],
   "source": [
    "predictions.select(\"text\", \"author\", \"probability\", \"prediction\").show()"
   ]
  },
  {
   "cell_type": "code",
   "execution_count": 41,
   "id": "d0a52e5b",
   "metadata": {},
   "outputs": [],
   "source": [
    "from pyspark.ml.evaluation import MulticlassClassificationEvaluator"
   ]
  },
  {
   "cell_type": "code",
   "execution_count": 65,
   "id": "239c3fba",
   "metadata": {},
   "outputs": [
    {
     "name": "stdout",
     "output_type": "stream",
     "text": [
      "+--------------------+--------+-----+\n",
      "|                text|  author|label|\n",
      "+--------------------+--------+-----+\n",
      "|_ mai_ _procèsver...|  balzac|  0.0|\n",
      "|_abyssus abyssum_...|  balzac|  0.0|\n",
      "|_ahriman_ le prin...|flaubert|  1.0|\n",
      "|_alberto_ nous pr...|  balzac|  0.0|\n",
      "|_anglaises_ situé...|  balzac|  0.0|\n",
      "|_antiquités_ coût...|  balzac|  0.0|\n",
      "|_après avoir rega...|  balzac|  0.0|\n",
      "|_attendu_ qui rés...|  balzac|  0.0|\n",
      "|_attraper leurs p...|  balzac|  0.0|\n",
      "|_auffredi_ de la ...|  balzac|  0.0|\n",
      "|_avait donné ses ...|  balzac|  0.0|\n",
      "|_banqueroutier_ f...|  balzac|  0.0|\n",
      "|_belle hollandais...|  balzac|  0.0|\n",
      "|_bellepoule_ pour...|  balzac|  0.0|\n",
      "|_beltà folgorante...|  balzac|  0.0|\n",
      "|_bien_ mais pour ...|  balzac|  0.0|\n",
      "|_bienheureux les ...|  balzac|  0.0|\n",
      "|_biophilie_ manif...|flaubert|  1.0|\n",
      "|_bocal aux grands...|  balzac|  0.0|\n",
      "|_bouillard_ espèc...|  balzac|  0.0|\n",
      "+--------------------+--------+-----+\n",
      "only showing top 20 rows\n",
      "\n"
     ]
    }
   ],
   "source": [
    "testDF.show(n=20)"
   ]
  },
  {
   "cell_type": "code",
   "execution_count": 43,
   "id": "90da622b",
   "metadata": {},
   "outputs": [],
   "source": [
    "evaluator = MulticlassClassificationEvaluator(labelCol=\"label\", predictionCol=\"prediction\", metricName=\"accuracy\")"
   ]
  },
  {
   "cell_type": "code",
   "execution_count": 44,
   "id": "8c12d34a",
   "metadata": {},
   "outputs": [
    {
     "name": "stdout",
     "output_type": "stream",
     "text": [
      "23/06/11 14:54:28 WARN DAGScheduler: Broadcasting large task binary with size 2.7 MiB\n"
     ]
    },
    {
     "name": "stderr",
     "output_type": "stream",
     "text": [
      "                                                                                \r"
     ]
    }
   ],
   "source": [
    "accuracy = evaluator.evaluate(predictions)"
   ]
  },
  {
   "cell_type": "code",
   "execution_count": 45,
   "id": "cb3628d6",
   "metadata": {},
   "outputs": [
    {
     "data": {
      "text/plain": [
       "0.8663900961411827"
      ]
     },
     "execution_count": 45,
     "metadata": {},
     "output_type": "execute_result"
    }
   ],
   "source": [
    "accuracy"
   ]
  },
  {
   "cell_type": "markdown",
   "id": "0474548d",
   "metadata": {},
   "source": [
    "here we got the accuracy of 0.86 which is super good for this kind of problems\n"
   ]
  },
  {
   "cell_type": "markdown",
   "id": "ba681b32",
   "metadata": {},
   "source": [
    "### Test With new Data"
   ]
  },
  {
   "cell_type": "code",
   "execution_count": 101,
   "id": "0469d9b0",
   "metadata": {},
   "outputs": [
    {
     "name": "stdout",
     "output_type": "stream",
     "text": [
      "23/06/11 15:18:06 WARN DAGScheduler: Broadcasting large task binary with size 2.7 MiB\n",
      "text of flaubert\n",
      "text of blazac\n"
     ]
    }
   ],
   "source": [
    "\n",
    "flaubert_text = \"\"\"Madame Bovary, mœurs de province est un roman de Gustave Flaubert paru en 1857. Il est considéré comme l'un des plus grands romans de la littérature française.\n",
    "\n",
    "L'histoire se déroule dans la petite ville de Yonville-l'Abbaye, en Normandie, au début du XIXe siècle. Charles Bovary, un jeune médecin peu ambitieux, épouse Emma Rouault, une jeune femme romantique et idéaliste. Emma, qui a reçu une éducation sentimentale romanesque, est vite déçue par la vie de province et par son mari, qu'elle trouve ennuyeux et peu cultivé. Elle se prend de passion pour Rodolphe Boulanger, un riche agriculteur, puis pour Léon Dupuis, un jeune avocat. Ses liaisons adultères la mènent à la ruine financière et morale. Elle finit par se suicider en avalant de l'arsenic.\n",
    "\n",
    "Madame Bovary est un roman réaliste qui montre la réalité de la vie de province au XIXe siècle. Il est aussi un roman psychologique qui montre la complexité de la personnalité d'Emma Bovary. Le roman a été condamné à l'époque pour son réalisme et son immoralité. Il est aujourd'hui considéré comme un chef-d'œuvre de la littérature française.\n",
    "\"\"\"\n",
    "\n",
    "balzac_text = \"\"\"Le soir, à l'heure où le monde se déshabille et se met en négligé, où les vanités tombent une à une, comme les feux d'une illuminée, l'homme à projets, l'homme aux espérances trouva ce soir-là ses plans embrumés, ses mirages anéantis, son futur envolé. Il était brisé, épuisé, étourdi ; il se trouva pour la première fois au fond du précipice où tombe tout homme qui en rencontre un autre plus puissant que lui et qui le veut détruire. Il avait l'expérience de la défaite ; il ne la concevait pas encore. La vie, si facile quelques heures auparavant, lui apparut dès lors comme une lutte incessante avec des hommes et des choses, une bataille où chacun porte une arme, et où il faut regarder en même temps les ennemis et les alliés, surveiller toutes les actions, et même les plus indifférentes, car une circonstance imprévue peut révéler une trahison.\"\"\"\n",
    "\n",
    "rows = [(flaubert_text, ),(balzac_text, )]\n",
    "\n",
    "new_entry = spark.createDataFrame(rows, (\"text\", ))\n",
    "\n",
    "prediction = lr_model.transform(new_entry)\n",
    "\n",
    "for row in prediction.select(\"prediction\").collect():\n",
    "    if  row.prediction==1.0:\n",
    "        print(\"text of flaubert\")\n",
    "    elif  row.prediction==0.0:\n",
    "        print(\"text of blazac\")\n"
   ]
  },
  {
   "cell_type": "markdown",
   "id": "0c6a75b6",
   "metadata": {},
   "source": [
    "### Fin de notebook"
   ]
  }
 ],
 "metadata": {
  "kernelspec": {
   "display_name": "Python 3 (ipykernel)",
   "language": "python",
   "name": "python3"
  },
  "language_info": {
   "codemirror_mode": {
    "name": "ipython",
    "version": 3
   },
   "file_extension": ".py",
   "mimetype": "text/x-python",
   "name": "python",
   "nbconvert_exporter": "python",
   "pygments_lexer": "ipython3",
   "version": "3.7.10"
  }
 },
 "nbformat": 4,
 "nbformat_minor": 5
}
