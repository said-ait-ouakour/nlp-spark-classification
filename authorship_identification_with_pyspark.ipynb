{
 "cells": [
  {
   "cell_type": "code",
   "execution_count": 27,
   "id": "6b059477",
   "metadata": {},
   "outputs": [],
   "source": [
    "from pyspark.sql import SparkSession\n",
    "\n",
    "spark = SparkSession.\\\n",
    "        builder.\\\n",
    "        appName(\"AuthorshipIdentificationWithPyspark\").\\\n",
    "        master(\"spark://spark-master:7077\").\\\n",
    "        config(\"spark.executor.memory\", \"1g\").\\\n",
    "        getOrCreate()\n",
    "\n",
    "sc = spark.sparkContext"
   ]
  },
  {
   "cell_type": "code",
   "execution_count": 82,
   "id": "3d94413b",
   "metadata": {},
   "outputs": [],
   "source": [
    "sc.setLogLevel(\"WARN\")"
   ]
  },
  {
   "cell_type": "code",
   "execution_count": 80,
   "id": "a81ec482",
   "metadata": {},
   "outputs": [],
   "source": [
    "import os \n",
    "import pandas as pd \n",
    "import numpy as np\n",
    "import re\n",
    "\n",
    "# Create Dataset\n",
    "def create_dataset():\n",
    "    \n",
    "\n",
    "    # base path for data \n",
    "    BASH_PATH = './data/'\n",
    "\n",
    "    folders = [i for i in os.listdir(BASH_PATH) if not i.startswith('.') ] \n",
    "    authors, texts, books = [], [], []\n",
    "    for folder in folders :\n",
    "        files = os.listdir(BASH_PATH+folder)\n",
    "        for file in files:\n",
    "            with open(BASH_PATH+folder+\"/\"+file, 'r') as io_file :\n",
    "                text = io_file.read()\n",
    "                text = re.sub('\\W+|_', ' ', text)\n",
    "                texts.append(f'{text}')\n",
    "                books.append(file.split(\".\")[0])\n",
    "                authors.append(folder)\n",
    "    \n",
    "    pd.DataFrame({\"text\":texts, \"author\":authors, \"book\":books}).to_csv(\"data.csv\", index=False)\n",
    "                        \n",
    "# create dataset\n",
    "create_dataset()\n"
   ]
  },
  {
   "cell_type": "code",
   "execution_count": 83,
   "id": "416764d3",
   "metadata": {},
   "outputs": [
    {
     "name": "stdout",
     "output_type": "stream",
     "text": [
      "+--------------------+--------+--------+\n",
      "|                text|  author|    book|\n",
      "+--------------------+--------+--------+\n",
      "|CHAPITRE I PHYSIO...|  Balzec|lafille2|\n",
      "|Dans un somptueux...|  Balzec| elixir2|\n",
      "|A UN LORD 1845 I ...|  Balzec|   chef2|\n",
      "|A MADAME LA COMTE...|  Balzec|chabert3|\n",
      "| I Pendant un dem...|Flaubert|uncoeur3|\n",
      "+--------------------+--------+--------+\n",
      "only showing top 5 rows\n",
      "\n"
     ]
    }
   ],
   "source": [
    "df = spark.read\\\n",
    "    .format(\"csv\")\\\n",
    "    .option(\"header\", \"true\")\\\n",
    "    .load(\"data.csv\")\n",
    "#     .option(\"escapeQuotes\", \"true\")\\\n",
    "\n",
    "df.show(n=5)"
   ]
  },
  {
   "cell_type": "code",
   "execution_count": 85,
   "id": "5c09ce69",
   "metadata": {},
   "outputs": [
    {
     "name": "stdout",
     "output_type": "stream",
     "text": [
      "+------+\n",
      "|author|\n",
      "+------+\n",
      "|Balzec|\n",
      "|Balzec|\n",
      "|Balzec|\n",
      "+------+\n",
      "only showing top 3 rows\n",
      "\n"
     ]
    }
   ],
   "source": [
    "df.select(\"author\").show(n=3)"
   ]
  },
  {
   "cell_type": "code",
   "execution_count": 87,
   "id": "7c8e87c3",
   "metadata": {},
   "outputs": [
    {
     "data": {
      "text/plain": [
       "['text', 'author', 'book']"
      ]
     },
     "execution_count": 87,
     "metadata": {},
     "output_type": "execute_result"
    }
   ],
   "source": [
    "df.columns"
   ]
  },
  {
   "cell_type": "code",
   "execution_count": 88,
   "id": "3022198f",
   "metadata": {},
   "outputs": [],
   "source": [
    "df = df.select(\"text\", \"author\")"
   ]
  },
  {
   "cell_type": "code",
   "execution_count": 90,
   "id": "35a3001a",
   "metadata": {},
   "outputs": [
    {
     "name": "stdout",
     "output_type": "stream",
     "text": [
      "+--------------------+------+\n",
      "|                text|author|\n",
      "+--------------------+------+\n",
      "|CHAPITRE I PHYSIO...|Balzec|\n",
      "|Dans un somptueux...|Balzec|\n",
      "|A UN LORD 1845 I ...|Balzec|\n",
      "+--------------------+------+\n",
      "only showing top 3 rows\n",
      "\n"
     ]
    }
   ],
   "source": [
    "df.show(n=3)"
   ]
  },
  {
   "cell_type": "code",
   "execution_count": 91,
   "id": "88ce089e",
   "metadata": {},
   "outputs": [
    {
     "name": "stderr",
     "output_type": "stream",
     "text": [
      "[Stage 43:>                                                         (0 + 1) / 1]\r"
     ]
    },
    {
     "name": "stdout",
     "output_type": "stream",
     "text": [
      "+--------+-----+\n",
      "|  author|count|\n",
      "+--------+-----+\n",
      "|  Balzec|    4|\n",
      "|Flaubert|    5|\n",
      "+--------+-----+\n",
      "\n"
     ]
    },
    {
     "name": "stderr",
     "output_type": "stream",
     "text": [
      "                                                                                \r"
     ]
    }
   ],
   "source": [
    "df.groupBy(\"author\").count().show()"
   ]
  },
  {
   "cell_type": "code",
   "execution_count": 38,
   "id": "7e0f052b",
   "metadata": {},
   "outputs": [],
   "source": [
    "import pyspark.ml.feature"
   ]
  },
  {
   "cell_type": "code",
   "execution_count": 96,
   "id": "6573f02e",
   "metadata": {},
   "outputs": [],
   "source": [
    "from pyspark.ml.feature import Tokenizer, StopWordsRemover, IDF, CountVectorizer\n",
    "from pyspark.ml.feature import StringIndexer "
   ]
  },
  {
   "cell_type": "code",
   "execution_count": null,
   "id": "1402d4d0",
   "metadata": {},
   "outputs": [],
   "source": []
  },
  {
   "cell_type": "raw",
   "id": "3066cccc",
   "metadata": {},
   "source": [
    "df.show()"
   ]
  },
  {
   "cell_type": "code",
   "execution_count": 131,
   "id": "b8edd4af",
   "metadata": {},
   "outputs": [],
   "source": [
    "tokenizer = Tokenizer(inputCol=\"text\", outputCol=\"mytokens\")\n",
    "stopWordsRemover = StopWordsRemover(inputCol=\"mytokens\", outputCol=\"filtered_tokens\")\n",
    "vectorizer = CountVectorizer(inputCol=\"filtered_tokens\", outputCol=\"rawFeatures\")\n",
    "idf = IDF(inputCol=\"rawFeatures\", outputCol=\"vectorizedFeatures\")"
   ]
  },
  {
   "cell_type": "code",
   "execution_count": 100,
   "id": "674aee82",
   "metadata": {},
   "outputs": [],
   "source": [
    "labelEncoder = StringIndexer(inputCol=\"author\", outputCol=\"label\").fit(df)"
   ]
  },
  {
   "cell_type": "code",
   "execution_count": 140,
   "id": "2156c5b3",
   "metadata": {},
   "outputs": [],
   "source": [
    "df = labelEncoder.transform(df)"
   ]
  },
  {
   "cell_type": "code",
   "execution_count": 142,
   "id": "5879c3ed",
   "metadata": {},
   "outputs": [],
   "source": [
    "(trainDF, testDF) = df.randomSplit((0.6, 0.3), seed=42)"
   ]
  },
  {
   "cell_type": "code",
   "execution_count": 143,
   "id": "63040631",
   "metadata": {},
   "outputs": [
    {
     "name": "stdout",
     "output_type": "stream",
     "text": [
      "+--------------------+--------+-----+\n",
      "|                text|  author|label|\n",
      "+--------------------+--------+-----+\n",
      "| I Pendant un dem...|Flaubert|  0.0|\n",
      "|A MADAME LA COMTE...|  Balzec|  1.0|\n",
      "|CHAPITRE I Comme ...|Flaubert|  0.0|\n",
      "|Dans un somptueux...|  Balzec|  1.0|\n",
      "|Gustave Flaubert ...|Flaubert|  0.0|\n",
      "+--------------------+--------+-----+\n",
      "\n"
     ]
    }
   ],
   "source": [
    "trainDF.show() "
   ]
  },
  {
   "cell_type": "code",
   "execution_count": 145,
   "id": "d7af2360",
   "metadata": {},
   "outputs": [
    {
     "name": "stdout",
     "output_type": "stream",
     "text": [
      "+--------------------+--------+-----+\n",
      "|                text|  author|label|\n",
      "+--------------------+--------+-----+\n",
      "|A UN LORD 1845 I ...|  Balzec|  1.0|\n",
      "|CHAPITRE I PHYSIO...|  Balzec|  1.0|\n",
      "|Flaubert L Educat...|Flaubert|  0.0|\n",
      "|MADAME BOVARY GUS...|Flaubert|  0.0|\n",
      "+--------------------+--------+-----+\n",
      "\n"
     ]
    }
   ],
   "source": [
    "testDF.show()"
   ]
  },
  {
   "cell_type": "code",
   "execution_count": 146,
   "id": "481b3a21",
   "metadata": {},
   "outputs": [],
   "source": [
    "from pyspark.ml.classification import LogisticRegression"
   ]
  },
  {
   "cell_type": "code",
   "execution_count": 147,
   "id": "e9bcac3e",
   "metadata": {},
   "outputs": [],
   "source": [
    "lr = LogisticRegression(featuresCol=\"vectorizedFeatures\", labelCol=\"label\")"
   ]
  },
  {
   "cell_type": "markdown",
   "id": "0815227c",
   "metadata": {},
   "source": [
    "### Building Pipeline "
   ]
  },
  {
   "cell_type": "code",
   "execution_count": 148,
   "id": "4c87d2e5",
   "metadata": {},
   "outputs": [],
   "source": [
    "from pyspark.ml import Pipeline"
   ]
  },
  {
   "cell_type": "code",
   "execution_count": 149,
   "id": "d974aad1",
   "metadata": {},
   "outputs": [],
   "source": [
    "pipeline = Pipeline(stages=[tokenizer, stopWordsRemover, vectorizer, idf, lr])"
   ]
  },
  {
   "cell_type": "code",
   "execution_count": 150,
   "id": "3544468e",
   "metadata": {},
   "outputs": [
    {
     "data": {
      "text/plain": [
       "Pipeline_76305083ee1c"
      ]
     },
     "execution_count": 150,
     "metadata": {},
     "output_type": "execute_result"
    }
   ],
   "source": [
    "pipeline"
   ]
  },
  {
   "cell_type": "code",
   "execution_count": 151,
   "id": "d08a96f4",
   "metadata": {},
   "outputs": [
    {
     "data": {
      "text/plain": [
       "Param(parent='Pipeline_76305083ee1c', name='stages', doc='a list of pipeline stages')"
      ]
     },
     "execution_count": 151,
     "metadata": {},
     "output_type": "execute_result"
    }
   ],
   "source": [
    "pipeline.stages"
   ]
  },
  {
   "cell_type": "code",
   "execution_count": 161,
   "id": "3a6092a0",
   "metadata": {},
   "outputs": [],
   "source": [
    "lr_model = pipeline.fit(trainDF)"
   ]
  },
  {
   "cell_type": "code",
   "execution_count": 162,
   "id": "dae041c6",
   "metadata": {},
   "outputs": [
    {
     "data": {
      "text/plain": [
       "PipelineModel_3c1d1ce201ee"
      ]
     },
     "execution_count": 162,
     "metadata": {},
     "output_type": "execute_result"
    }
   ],
   "source": [
    "lr_model"
   ]
  },
  {
   "cell_type": "code",
   "execution_count": 163,
   "id": "ae46c907",
   "metadata": {},
   "outputs": [],
   "source": [
    "predictions = lr_model.transform(testDF) "
   ]
  },
  {
   "cell_type": "code",
   "execution_count": 164,
   "id": "44fad74a",
   "metadata": {},
   "outputs": [
    {
     "data": {
      "text/plain": [
       "['text',\n",
       " 'author',\n",
       " 'label',\n",
       " 'mytokens',\n",
       " 'filtered_tokens',\n",
       " 'rawFeatures',\n",
       " 'vectorizedFeatures',\n",
       " 'rawPrediction',\n",
       " 'probability',\n",
       " 'prediction']"
      ]
     },
     "execution_count": 164,
     "metadata": {},
     "output_type": "execute_result"
    }
   ],
   "source": [
    "predictions.columns"
   ]
  },
  {
   "cell_type": "code",
   "execution_count": 165,
   "id": "7dd84619",
   "metadata": {},
   "outputs": [
    {
     "name": "stdout",
     "output_type": "stream",
     "text": [
      "+--------------------+--------+--------------------+----------+\n",
      "|                text|  author|         probability|prediction|\n",
      "+--------------------+--------+--------------------+----------+\n",
      "|A UN LORD 1845 I ...|  Balzec|[2.24095997696129...|       1.0|\n",
      "|CHAPITRE I PHYSIO...|  Balzec|[2.66802909851786...|       1.0|\n",
      "|Flaubert L Educat...|Flaubert|[0.99999997701150...|       0.0|\n",
      "|MADAME BOVARY GUS...|Flaubert|[0.99999993819271...|       0.0|\n",
      "+--------------------+--------+--------------------+----------+\n",
      "\n"
     ]
    }
   ],
   "source": [
    "predictions.select(\"text\", \"author\", \"probability\", \"prediction\").show()"
   ]
  },
  {
   "cell_type": "code",
   "execution_count": null,
   "id": "85c9d55f",
   "metadata": {},
   "outputs": [],
   "source": []
  }
 ],
 "metadata": {
  "kernelspec": {
   "display_name": "Python 3 (ipykernel)",
   "language": "python",
   "name": "python3"
  },
  "language_info": {
   "codemirror_mode": {
    "name": "ipython",
    "version": 3
   },
   "file_extension": ".py",
   "mimetype": "text/x-python",
   "name": "python",
   "nbconvert_exporter": "python",
   "pygments_lexer": "ipython3",
   "version": "3.9.2"
  }
 },
 "nbformat": 4,
 "nbformat_minor": 5
}
